{
 "cells": [
  {
   "cell_type": "markdown",
   "id": "9b725a0f",
   "metadata": {},
   "source": [
    "Data Science Tools and Ecosystem\n"
   ]
  },
  {
   "cell_type": "markdown",
   "id": "8d7792bc",
   "metadata": {},
   "source": [
    "In this notebook, Data Science Tools and Ecosystem are summarized."
   ]
  },
  {
   "cell_type": "markdown",
   "id": "43b74bc1",
   "metadata": {},
   "source": [
    "Some of the popular languages that Data Scientists use are:"
   ]
  },
  {
   "cell_type": "markdown",
   "id": "64605aa6",
   "metadata": {},
   "source": [
    "1. SQL\n",
    "2. R\n",
    "3. Python"
   ]
  },
  {
   "cell_type": "markdown",
   "id": "68973676",
   "metadata": {},
   "source": [
    "Some of the commonly used libraries used by Data Scientists include:\n",
    "\n",
    "1. NumPy\n",
    "2. Pandas\n",
    "3. ggplot"
   ]
  },
  {
   "cell_type": "markdown",
   "id": "8a5bfa89",
   "metadata": {},
   "source": [
    "| Data Science Tools |\n",
    "|--------------------|\n",
    "| Jupyter Notebook |\n",
    "| Hadoop |\n",
    "| Spark |"
   ]
  },
  {
   "cell_type": "markdown",
   "id": "f2cbdb5c",
   "metadata": {},
   "source": [
    "Below are a few examples of evaluating arithmetic expressions in Python"
   ]
  },
  {
   "cell_type": "code",
   "execution_count": 3,
   "id": "3b664cdd",
   "metadata": {},
   "outputs": [
    {
     "data": {
      "text/plain": [
       "17"
      ]
     },
     "execution_count": 3,
     "metadata": {},
     "output_type": "execute_result"
    }
   ],
   "source": [
    "(3*4)+5\n"
   ]
  },
  {
   "cell_type": "markdown",
   "id": "a4fb5c66",
   "metadata": {},
   "source": [
    " This a simple arithmetic expression to mutiply then add integers\n"
   ]
  },
  {
   "cell_type": "markdown",
   "id": "415e76e0",
   "metadata": {},
   "source": [
    "This will convert 200 minutes to hours by diving by 60"
   ]
  },
  {
   "cell_type": "code",
   "execution_count": 9,
   "id": "8234f922",
   "metadata": {},
   "outputs": [],
   "source": [
    "min= 200\n",
    "\n",
    "hours= min/60\n",
    "\n"
   ]
  },
  {
   "cell_type": "code",
   "execution_count": 10,
   "id": "2ebfaca4",
   "metadata": {},
   "outputs": [
    {
     "data": {
      "text/plain": [
       "3.3333333333333335"
      ]
     },
     "execution_count": 10,
     "metadata": {},
     "output_type": "execute_result"
    }
   ],
   "source": [
    "hours"
   ]
  },
  {
   "cell_type": "markdown",
   "id": "cb33fb2f",
   "metadata": {},
   "source": [
    "**Objectives:**"
   ]
  },
  {
   "cell_type": "markdown",
   "id": "d7cdc7e9",
   "metadata": {},
   "source": [
    " 3 items covered in this notebook:\n"
   ]
  },
  {
   "cell_type": "markdown",
   "id": "da4e70e4",
   "metadata": {},
   "source": [
    "1. What data scientists use\n",
    "2. Data scientist libraries\n",
    "3. Basic arithmetic code using jupyter notebook"
   ]
  },
  {
   "cell_type": "markdown",
   "id": "60fcd22c",
   "metadata": {},
   "source": [
    "**Author**\n",
    "Rashik Rayat"
   ]
  },
  {
   "cell_type": "code",
   "execution_count": null,
   "id": "75052c89",
   "metadata": {},
   "outputs": [],
   "source": []
  }
 ],
 "metadata": {
  "kernelspec": {
   "display_name": "Python 3 (ipykernel)",
   "language": "python",
   "name": "python3"
  },
  "language_info": {
   "codemirror_mode": {
    "name": "ipython",
    "version": 3
   },
   "file_extension": ".py",
   "mimetype": "text/x-python",
   "name": "python",
   "nbconvert_exporter": "python",
   "pygments_lexer": "ipython3",
   "version": "3.11.5"
  }
 },
 "nbformat": 4,
 "nbformat_minor": 5
}
